{
  "nbformat": 4,
  "nbformat_minor": 0,
  "metadata": {
    "colab": {
      "provenance": []
    },
    "kernelspec": {
      "name": "python3",
      "display_name": "Python 3"
    },
    "language_info": {
      "name": "python"
    }
  },
  "cells": [
    {
      "cell_type": "code",
      "execution_count": 8,
      "metadata": {
        "colab": {
          "base_uri": "https://localhost:8080/"
        },
        "id": "Dd-WPgyzNyRk",
        "outputId": "41711e8e-bf8f-4d5d-c8b8-fbb08574e4de"
      },
      "outputs": [
        {
          "output_type": "stream",
          "name": "stdout",
          "text": [
            "Enter the distance in kilometer: 47\n",
            "Given Distance in Kilometers 47\n",
            "distance in nautical mile: 25.380000000000003\n"
          ]
        }
      ],
      "source": [
        "km = int(input(\"Enter the distance in kilometer: \"))\n",
        "print(\"Given Distance in Kilometers\", km)\n",
        "\n",
        "angular_distance = 90\n",
        "arc_time = 60\n",
        "total_minutes_of_arc = angular_distance * arc_time\n",
        "\n",
        "\n",
        "nautical_mile = km * (total_minutes_of_arc / 10000)\n",
        "\n",
        "\n",
        "print(\"distance in nautical mile:\", nautical_mile)\n"
      ]
    },
    {
      "cell_type": "markdown",
      "source": [
        "hints given in the assignment that \n",
        "1. the difference between equator to northpole is about 1/10,000 that means 1 km represents the 1/10,000 distance between equator to north pole\n",
        "2. angular_distance= 90 degree and each degree consists of arc_time 60 mins\n",
        "3. nautical mile is equal to  1 minute of an arc."
      ],
      "metadata": {
        "id": "ea0lTZ4-YKcy"
      }
    },
    {
      "cell_type": "code",
      "source": [
        "\n"
      ],
      "metadata": {
        "colab": {
          "base_uri": "https://localhost:8080/"
        },
        "id": "WIALht3NO-sz",
        "outputId": "03df6663-7410-440c-9d32-a8ea45201208"
      },
      "execution_count": 3,
      "outputs": [
        {
          "output_type": "execute_result",
          "data": {
            "text/plain": [
              "5400"
            ]
          },
          "metadata": {},
          "execution_count": 3
        }
      ]
    },
    {
      "cell_type": "code",
      "source": [],
      "metadata": {
        "id": "nZSV3mQmZo7Q"
      },
      "execution_count": 4,
      "outputs": []
    },
    {
      "cell_type": "code",
      "source": [],
      "metadata": {
        "colab": {
          "base_uri": "https://localhost:8080/"
        },
        "id": "uy8i7fa8aEHY",
        "outputId": "356c17fa-5fd2-44df-bcb6-276d965365e3"
      },
      "execution_count": 5,
      "outputs": [
        {
          "output_type": "execute_result",
          "data": {
            "text/plain": [
              "54.0"
            ]
          },
          "metadata": {},
          "execution_count": 5
        }
      ]
    }
  ]
}