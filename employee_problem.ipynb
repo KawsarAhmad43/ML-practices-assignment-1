{
  "nbformat": 4,
  "nbformat_minor": 0,
  "metadata": {
    "colab": {
      "provenance": []
    },
    "kernelspec": {
      "name": "python3",
      "display_name": "Python 3"
    },
    "language_info": {
      "name": "python"
    }
  },
  "cells": [
    {
      "cell_type": "code",
      "execution_count": 5,
      "metadata": {
        "colab": {
          "base_uri": "https://localhost:8080/"
        },
        "id": "EVhD2so2dvbS",
        "outputId": "41bbc858-3d87-4c1b-e271-7de7f5bcf055"
      },
      "outputs": [
        {
          "output_type": "stream",
          "name": "stdout",
          "text": [
            "Enter Hourly wage: 15.50\n",
            "Enter total regular hours: 40\n",
            "Enter total regular hours: 10\n",
            "Total Weekly Pay:  852.5\n"
          ]
        }
      ],
      "source": [
        "hourly_wage = float(input(\"Enter Hourly wage: \"))\n",
        "total_regular_hours = float(input(\"Enter total regular hours: \"))\n",
        "total_overtime_hours = float(input(\"Enter total regular hours: \"))\n",
        "\n",
        "increased_wage= hourly_wage * 1.5\n",
        "\n",
        "total_weekly_pay = (hourly_wage * total_regular_hours) + (total_overtime_hours * increased_wage)\n",
        "\n",
        "print(\"Total Weekly Pay: \", total_weekly_pay)"
      ]
    },
    {
      "cell_type": "code",
      "source": [],
      "metadata": {
        "colab": {
          "base_uri": "https://localhost:8080/"
        },
        "id": "385j5HWApayO",
        "outputId": "221d1df6-ce56-4651-9849-bfec489a8c19"
      },
      "execution_count": 4,
      "outputs": [
        {
          "output_type": "stream",
          "name": "stdout",
          "text": [
            "Enter the hourly wage: 15.50\n",
            "Enter the total regular hours: 40\n",
            "Enter the total overtime hours: 10\n",
            "Total weekly pay:  852.5\n"
          ]
        }
      ]
    }
  ]
}